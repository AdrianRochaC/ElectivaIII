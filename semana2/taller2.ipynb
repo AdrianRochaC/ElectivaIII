{
 "cells": [
  {
   "cell_type": "markdown",
   "id": "6c9d4297",
   "metadata": {},
   "source": [
    "# Taller 2 - Manejo de Archivos - Adrian Rocha"
   ]
  },
  {
   "cell_type": "markdown",
   "id": "a4badefa",
   "metadata": {},
   "source": [
    "## Punto 1"
   ]
  },
  {
   "cell_type": "code",
   "execution_count": 3,
   "id": "047c4efa",
   "metadata": {},
   "outputs": [],
   "source": [
    "# No modifiques esta celda\n",
    "\n",
    "cadena = \"Archivos de texto\""
   ]
  },
  {
   "cell_type": "code",
   "execution_count": null,
   "id": "e1f8e0df",
   "metadata": {},
   "outputs": [],
   "source": [
    "def sustituir(cadena):\n",
    "    cadena_lista = list(cadena)\n",
    "    penultimo = cadena_lista[-2]\n",
    "    segundo = cadena_lista[1]\n",
    "    cadena_lista[1] = penultimo\n",
    "    cadena_lista[-2] = segundo\n",
    "    return \"\".join(cadena_lista)"
   ]
  },
  {
   "cell_type": "code",
   "execution_count": 17,
   "id": "a9b4bbae",
   "metadata": {},
   "outputs": [
    {
     "name": "stdout",
     "output_type": "stream",
     "text": [
      "Felicidades, realizaste este ejercicio correctamente.\n"
     ]
    }
   ],
   "source": [
    "## AUTO-CALIFICADOR\n",
    "\n",
    "# Base variables\n",
    "cadena = \"Archivos de texto\"\n",
    "cadena_prueba = \"Una cadena con mayor cantidad de caracteres\"\n",
    "\n",
    "# Caso 1: no existe la función.\n",
    "try:\n",
    "    sustituir\n",
    "    assert type(sustituir) == type(lambda:None)\n",
    "except:\n",
    "    raise NotImplementedError(\"No existe una función llamada sustituir.\",)\n",
    "    \n",
    "# Caso 2: la función es interrumpida por errores durante su ejecución.\n",
    "try:\n",
    "    sustituir(cadena)\n",
    "    sustituir(cadena_prueba)\n",
    "except:\n",
    "    raise RuntimeError(\"Tu función produce un error al ejecutarse.\")\n",
    "\n",
    "# Caso 3: no retorna una cadena\n",
    "assert type(sustituir(cadena_prueba)) == str, f\"Tu función debe retornar un valor de tipo {str.__name__}.\"\n",
    "\n",
    "# Caso 4: respuesta explicita\n",
    "assert sustituir(cadena_prueba) != \"Atchivos de texro\", \"Tu respuesta es incorrecta para una instancia diferente. Utiliza el parámetro.\"\n",
    "\n",
    "# Caso 5: retorna la misma cadena\n",
    "assert sustituir(cadena_prueba) != cadena_prueba, \"Tu función retorna la misma cadena que recibe por parámetro sin alterar.\"\n",
    "\n",
    "# Caso 6: devuelve una cadena de longitud errada\n",
    "assert len(sustituir(cadena_prueba)) == len(cadena_prueba), \"Tu función puede no estar tomando en cuenta todos los caracteres de la cadena que recibe por parámetro.\"\n",
    "\n",
    "# Caso 7: asigna el mismo valor a ambas posiciones\n",
    "assert sustituir(cadena_prueba)[1] != sustituir(cadena_prueba)[-2], \"Tu función asigna el mismo caracter en las posiciones segunda y penúltima.\"\n",
    "\n",
    "# Caso 8: confunde indexación iniciada en cero\n",
    "assert sustituir(cadena_prueba)[2] != \"s\", \"Tu función una posición que no debería. Recuerda que en Python la indexación inicia en 0\"\n",
    "\n",
    "# Caso 9: retorna una cadena distinta de la esperada\n",
    "assert sustituir(cadena_prueba) == \"Uea cadena con mayor cantidad de caracterns\", \"Tu función no retorna la cadena correcta.\"\n",
    "assert sustituir(cadena) == \"Atchivos de texro\", \"Tu función no retorna la cadena correcta.\"\n",
    "\n",
    "# Mensaje de felicitaciones\n",
    "print(\"Felicidades, realizaste este ejercicio correctamente.\")"
   ]
  },
  {
   "cell_type": "markdown",
   "id": "65bbb1bd",
   "metadata": {},
   "source": [
    "## Punto 2"
   ]
  },
  {
   "cell_type": "code",
   "execution_count": 1,
   "id": "ef5d77a8",
   "metadata": {},
   "outputs": [],
   "source": [
    "directorio = \"./Archivos/tesoro.txt\""
   ]
  },
  {
   "cell_type": "code",
   "execution_count": 2,
   "id": "825e4670",
   "metadata": {},
   "outputs": [],
   "source": [
    "def archivo_a_lista(directorio):\n",
    "    with open(directorio, \"r\", encoding=\"utf-8\") as r:\n",
    "        return r.readlines()"
   ]
  },
  {
   "cell_type": "code",
   "execution_count": 3,
   "id": "92f6dc95",
   "metadata": {},
   "outputs": [
    {
     "name": "stdout",
     "output_type": "stream",
     "text": [
      "Felicidades, realizaste este ejercicio correctamente.\n"
     ]
    }
   ],
   "source": [
    "## AUTO-CALIFICADOR\n",
    "\n",
    "# Base variables\n",
    "directorio = \"./Archivos/tesoro.txt\"\n",
    "directorio_prueba = \"./Archivos/tesoro_2.txt\"\n",
    "\n",
    "# Caso 1: no existe la función.\n",
    "try:\n",
    "    archivo_a_lista\n",
    "    assert type(archivo_a_lista) == type(lambda:None)\n",
    "except:\n",
    "    raise NotImplementedError(\"No existe una función llamada archivo_a_lista.\",)\n",
    "    \n",
    "# Caso 2: la función es interrumpida por errores durante su ejecución.\n",
    "try:\n",
    "    archivo_a_lista(directorio)\n",
    "    archivo_a_lista(directorio_prueba)\n",
    "except:\n",
    "    raise RuntimeError(\"Tu función produce un error al ejecutarse. Asegurate de que estés usando una dirección relativa a la ubicación de este notebook.\")\n",
    "\n",
    "# Caso 3: no retorna una lista\n",
    "assert type(archivo_a_lista(directorio_prueba)) == list, f\"Tu función debe retornar un valor de tipo {list.__name__}.\"\n",
    "\n",
    "# Caso 4: retorna una lista vacía\n",
    "assert len(archivo_a_lista(directorio_prueba)) != 0, \"Tu función retorna una lista vacía, cuando debería devolver una lista con las filas del archivo .txt\"\n",
    "\n",
    "# Caso 5: respuesta explicita\n",
    "assert archivo_a_lista(directorio_prueba)[0] != \"Principales tenedores de títulos del tesoro americano en lo que se lleva del 2020\\n\", \"Tu respuesta es incorrecta para una instancia diferente. Asegurate de utilizar el parámetro.\"\n",
    "assert archivo_a_lista(directorio)[0] != 'Estimado estudiante.\\n', \"Tu respuesta es incorrecta para una instancia diferente. Asegurate de utilizar el parámetro.\"\n",
    "\n",
    "# Caso 7: devuelve una lista de longitud errada\n",
    "assert len(archivo_a_lista(directorio_prueba)) == 8, \"Tu función puede no estar tomando en cuenta todas las filas del archivo de texto deseado.\"\n",
    "\n",
    "# Caso 8: la lista es incorrecta\n",
    "resultado_prueba = ['Estimado estudiante.\\n',\n",
    "                    '\\n',\n",
    "                    'Este archivo de texto es para uso exclusivo del auto-calificador.\\n',\n",
    "                    'Evite borrar, mover o editar de cualquier forma su contenido.\\n',\n",
    "                    '\\n',\n",
    "                    '\\n',\n",
    "                    'Agradecemos su colaboración,\\n',\n",
    "                    'Equipo de Laboratorio Computacional de Analytics.\\n']\n",
    "\n",
    "assert archivo_a_lista(directorio_prueba) == resultado_prueba, \"Tu función devuelve una lista errada.\"\n",
    "\n",
    "# Mensaje de felicitaciones\n",
    "print(\"Felicidades, realizaste este ejercicio correctamente.\")"
   ]
  },
  {
   "cell_type": "markdown",
   "id": "91fdbd9a",
   "metadata": {},
   "source": [
    "## Punto 3"
   ]
  },
  {
   "cell_type": "code",
   "execution_count": 4,
   "id": "612f2e7a",
   "metadata": {},
   "outputs": [],
   "source": [
    "# No modifiques esta celda\n",
    "\n",
    "lista_paises = ['Japón', 'Francia']\n",
    "lineas = archivo_a_lista(directorio)"
   ]
  },
  {
   "cell_type": "code",
   "execution_count": 5,
   "id": "67300864",
   "metadata": {},
   "outputs": [],
   "source": [
    "# your code here\n",
    "def filtrar_paises(lista_paises):\n",
    "    resultado = []\n",
    "    for pais in lista_paises:\n",
    "        for linea in lineas:\n",
    "            if pais in linea:\n",
    "                resultado.append(linea)\n",
    "    return resultado"
   ]
  },
  {
   "cell_type": "code",
   "execution_count": 6,
   "id": "d6d67778",
   "metadata": {},
   "outputs": [
    {
     "name": "stdout",
     "output_type": "stream",
     "text": [
      "Felicidades, realizaste este ejercicio correctamente.\n"
     ]
    }
   ],
   "source": [
    "## AUTO-CALIFICADOR\n",
    "\n",
    "# Base variables\n",
    "directorio = \"./Archivos/tesoro.txt\"\n",
    "directorio_prueba = \"./Archivos/tesoro_2.txt\"\n",
    "lista_paises = ['Japón', 'Francia']\n",
    "lista_paises_prueba = ['Suiza', 'Noruega', 'Tailandia', 'Kuwait']\n",
    "resultado_prueba_ej_2 = ['Estimado estudiante.\\n',\n",
    "                         '\\n',\n",
    "                         'Este archivo de texto es para uso exclusivo del auto-calificador.\\n',\n",
    "                         'Evite borrar, mover o editar de cualquier forma su contenido.\\n',\n",
    "                         '\\n',\n",
    "                         '\\n',\n",
    "                         'Agradecemos su colaboración,\\n',\n",
    "                         'Equipo de Laboratorio Computacional de Analytics.\\n']\n",
    "\n",
    "\n",
    "# Caso 0: no ha implementado el ejercicio 2:\n",
    "try:\n",
    "    assert archivo_a_lista(directorio_prueba) == resultado_prueba_ej_2\n",
    "except:\n",
    "    raise NotImplementedError(\"Debes haber implementado correctamente el ejercicio 2.\")\n",
    "\n",
    "lineas = archivo_a_lista(directorio)\n",
    "\n",
    "# Caso 1: no existe la función.\n",
    "try:\n",
    "    filtrar_paises\n",
    "    assert type(filtrar_paises) == type(lambda:None)\n",
    "except:\n",
    "    raise NotImplementedError(\"No existe una función llamada filtrar_paises.\",)\n",
    "    \n",
    "# Caso 2: la función es interrumpida por errores durante su ejecución.\n",
    "try:\n",
    "    filtrar_paises(lista_paises)\n",
    "    filtrar_paises(lista_paises_prueba)\n",
    "except:\n",
    "    raise RuntimeError(\"Tu función produce un error al ejecutarse.\")\n",
    "\n",
    "# Caso 3: no retorna una lista\n",
    "assert type(filtrar_paises(lista_paises_prueba)) == list, f\"Tu función debe retornar un valor de tipo {list.__name__}.\"\n",
    "\n",
    "# Caso 4: retorna una lista vacía\n",
    "assert len(filtrar_paises(lista_paises_prueba)) != 0, \"Tu función retorna una lista vacía, cuando debería devolver una lista con las filas solicitadas del archivo .txt.\"\n",
    "\n",
    "# Caso 5: respuesta explicita\n",
    "assert filtrar_paises(lista_paises_prueba)[0] != 'Japón\\t1261.5\\t1260.4\\t1266.5\\t1272.6\\t1268.6\\t1211.8\\t1155.2\\t\\n', \"Tu respuesta es incorrecta para una instancia diferente. Asegurate de utilizar el parámetro.\"\n",
    "\n",
    "# Caso 6: devuelve una lista de longitud errada\n",
    "assert len(filtrar_paises(lista_paises_prueba)) == len(lista_paises_prueba), \"Tu función puede no estar tomando en cuenta todos los paises de la lista que recibe por parámetro.\"\n",
    "\n",
    "# Caso 7: la lista es incorrecta\n",
    "resultado = ['Japón\\t1261.5\\t1260.4\\t1266.5\\t1272.6\\t1268.6\\t1211.8\\t1155.2\\t\\n',\n",
    "             'Francia\\t144.2\\t130.5\\t137.7\\t156.0\\t147.6\\t134.0\\t127.7\\t\\n']\n",
    "\n",
    "resultado_prueba = ['Suiza\\t247.4\\t243.1\\t241.3\\t244.6\\t243.7\\t238.1\\t237.5\\t\\n',\n",
    "                    'Noruega\\t89.5\\t87.6\\t93.2\\t98.0\\t103.3\\t97.7\\t90.1\\t\\n',\n",
    "                    'Tailandia\\t85.5\\t85.8\\t80.5\\t81.8\\t91.3\\t96.0\\t90.5\\t\\n',\n",
    "                    'Kuwait\\t44.9\\t43.6\\t44.5\\t40.1\\t43.6\\t41.9\\t43.3\\t\\n']\n",
    "\n",
    "assert filtrar_paises(lista_paises) == resultado, \"Tu función devuelve una lista errada.\"\n",
    "assert filtrar_paises(lista_paises_prueba) == resultado_prueba, \"Tu función devuelve una lista errada.\"\n",
    "\n",
    "# Mensaje de felicitaciones\n",
    "print(\"Felicidades, realizaste este ejercicio correctamente.\")"
   ]
  },
  {
   "cell_type": "markdown",
   "id": "c69a7bc6",
   "metadata": {},
   "source": [
    "## Punto 4"
   ]
  },
  {
   "cell_type": "code",
   "execution_count": 7,
   "id": "58739c40",
   "metadata": {},
   "outputs": [],
   "source": [
    "# No modifiques esta celda\n",
    "\n",
    "pronostico_jorge = [\"Brasil\", \"Argentina\", \"Uruguay\", \"Colombia\", \"Chile\", \"Ecuador\", \"Perú\", \"Paraguay\", \"Venezuela\", \"Bolivia\"]\n",
    "pronostico_juan = [\"Brasil\", \"Uruguay\", \"Colombia\", \"Argentina\", \"Ecuador\", \"Chile\", \"Paraguay\", \"Perú\", \"Venezuela\", \"Bolivia\"]"
   ]
  },
  {
   "cell_type": "code",
   "execution_count": null,
   "id": "0f34bd62",
   "metadata": {},
   "outputs": [],
   "source": [
    "def ECM(pronostico_jorge, pronostico_juan):\n",
    "    with open(\"Archivos/Eliminatorias.txt\", \"r\", encoding=\"utf-8\") as f:\n",
    "        tabla_real = []\n",
    "        for linea in f:\n",
    "            linea = linea.strip()\n",
    "            if not linea or linea.startswith(\"Pos.\") or linea.startswith(\"Dif.\") or linea.startswith(\"Selección\"):\n",
    "                continue\n",
    "            partes = linea.split()\n",
    "            if len(partes) >= 2:\n",
    "                tabla_real.append(partes[1])\n",
    "\n",
    "    posiciones = {pais: i for i, pais in enumerate(tabla_real)}\n",
    "\n",
    "    total_jorge = 0\n",
    "    total_juan = 0\n",
    "\n",
    "    for i, pais in enumerate(pronostico_jorge):\n",
    "        total_jorge += (posiciones[pais] - i) ** 2\n",
    "    for i, pais in enumerate(pronostico_juan):\n",
    "        total_juan += (posiciones[pais] - i) ** 2\n",
    "\n",
    "    return total_jorge / 10, total_juan / 10\n"
   ]
  },
  {
   "cell_type": "code",
   "execution_count": 21,
   "id": "5d67b09e",
   "metadata": {},
   "outputs": [
    {
     "name": "stdout",
     "output_type": "stream",
     "text": [
      "Felicidades, realizaste este ejercicio correctamente.\n"
     ]
    }
   ],
   "source": [
    "## AUTO-CALIFICADOR\n",
    "\n",
    "# Base variables\n",
    "pronostico_jorge = [\"Brasil\", \"Argentina\", \"Uruguay\", \"Colombia\", \"Chile\", \"Ecuador\", \"Perú\", \"Paraguay\", \"Venezuela\", \"Bolivia\"]\n",
    "pronostico_juan = [\"Brasil\", \"Uruguay\", \"Colombia\", \"Argentina\", \"Ecuador\", \"Chile\", \"Paraguay\", \"Perú\", \"Venezuela\", \"Bolivia\"]\n",
    "\n",
    "pronostico_jorge_prueba = [\"Argentina\", \"Chile\", \"Ecuador\", \"Perú\", \"Uruguay\", \"Colombia\", \"Paraguay\", \"Venezuela\", \"Brasil\", \"Bolivia\"]\n",
    "pronostico_juan_prueba = [\"Argentina\", \"Uruguay\", \"Brasil\", \"Ecuador\", \"Chile\", \"Paraguay\", \"Colombia\", \"Perú\", \"Venezuela\", \"Bolivia\"]\n",
    "\n",
    "# Caso 1: no existe la función.\n",
    "try:\n",
    "    ECM\n",
    "    assert type(ECM) == type(lambda:None)\n",
    "except:\n",
    "    raise NotImplementedError(\"No existe una función llamada ECM.\")\n",
    "    \n",
    "# Caso 2: la función es interrumpida por errores durante su ejecución.\n",
    "try:\n",
    "    ECM(pronostico_jorge, pronostico_juan)\n",
    "    ECM(pronostico_jorge_prueba, pronostico_juan_prueba)\n",
    "except:\n",
    "    raise RuntimeError(\"Tu función produce un error al ejecutarse.\")\n",
    "\n",
    "# Caso 3: no retorna una tupla\n",
    "assert type(ECM(pronostico_jorge_prueba, pronostico_juan_prueba)) == tuple, f\"Tu función debe retornar un valor de tipo {tuple.__name__}.\"\n",
    "\n",
    "# Caso 4: retorna una tupla de tamaño incorrecto\n",
    "assert len(ECM(pronostico_jorge_prueba, pronostico_juan_prueba)) == 2, \"Tu función debe retornar una tupla de dos elementos.\"\n",
    "\n",
    "# Caso 5: retorna una tupla pero no de floats\n",
    "assert type(ECM(pronostico_jorge_prueba, pronostico_juan_prueba)[0]) == float and type(ECM(pronostico_jorge_prueba, pronostico_juan_prueba)[1]) == float, f\"Los elementos de la tupla que retorna tu función no son de tipo {float.__name__}.\"\n",
    "\n",
    "# Caso 6: respuesta explicita\n",
    "assert ECM(pronostico_jorge_prueba, pronostico_juan_prueba) != (1.4, 2.2), \"La respuesta de tu función es incorrecta para una instancia diferente. Asegurate de utilizar el parámetro.\"\n",
    "\n",
    "# Caso 7: orden incorrecto parámetros\n",
    "assert ECM(pronostico_juan, pronostico_jorge) == (2.2, 1.4), \"La respuesta de tu función es correcta pero presenta los resultados en el orden equivocado.\"\n",
    "\n",
    "# Caso 8: valores incorrectos\n",
    "assert ECM(pronostico_jorge, pronostico_juan) == (1.4, 2.2), \"El cálculo de tus EMC es errado.\"\n",
    "assert ECM(pronostico_jorge_prueba, pronostico_juan_prueba) == (12.8, 4.6), \"El cálculo de tus EMC es errado.\"\n",
    "\n",
    "# Mensaje de felicitaciones\n",
    "print(\"Felicidades, realizaste este ejercicio correctamente.\")\n"
   ]
  }
 ],
 "metadata": {
  "kernelspec": {
   "display_name": "Python 3",
   "language": "python",
   "name": "python3"
  },
  "language_info": {
   "codemirror_mode": {
    "name": "ipython",
    "version": 3
   },
   "file_extension": ".py",
   "mimetype": "text/x-python",
   "name": "python",
   "nbconvert_exporter": "python",
   "pygments_lexer": "ipython3",
   "version": "3.10.11"
  }
 },
 "nbformat": 4,
 "nbformat_minor": 5
}
